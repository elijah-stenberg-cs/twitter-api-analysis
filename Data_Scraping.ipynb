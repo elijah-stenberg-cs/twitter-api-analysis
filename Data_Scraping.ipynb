{
  "nbformat": 4,
  "nbformat_minor": 0,
  "metadata": {
    "colab": {
      "provenance": []
    },
    "kernelspec": {
      "name": "python3",
      "display_name": "Python 3"
    },
    "language_info": {
      "name": "python"
    }
  },
  "cells": [
    {
      "cell_type": "code",
      "source": [
        "!pip install tweepy pandas matplotlib textblob\n",
        "\n",
        "import tweepy\n",
        "import pandas as pd\n",
        "import matplotlib.pyplot as plt\n",
        "from textblob import TextBlob\n",
        "\n",
        "from google.colab import userdata\n",
        "import os\n",
        "\n",
        "# Credential set up\n",
        "try:\n",
        "    bearer_token = userdata.get(\"BEARER_TOKEN\")  # v2 uses only the Bearer Token\n",
        "\n",
        "    if not bearer_token:\n",
        "        print(\"Error: Bearer Token not found in Colab Secrets Manager.\")\n",
        "        print(\"Please set BEARER_TOKEN in the Secrets Manager (🔑 icon in the left sidebar).\")\n",
        "    else:\n",
        "        # Tweepy v2 Client\n",
        "        client = tweepy.Client(bearer_token=bearer_token)\n",
        "\n",
        "        # Collect a small sample of live tweets (v2 API)\n",
        "        query = \"the -is:retweet lang:en\"  # sample English tweets, no retweets\n",
        "        tweets = client.search_recent_tweets(\n",
        "        query=query,\n",
        "        max_results=25,\n",
        "        tweet_fields=[\"created_at\",\"text\",\"public_metrics\"]\n",
        ")\n",
        "\n",
        "        # Store tweets in a DataFrame\n",
        "        data = []\n",
        "        if tweets.data:\n",
        "            for t in tweets.data:\n",
        "                data.append({\n",
        "                    \"date\": t.created_at,\n",
        "                    \"text\": t.text,\n",
        "                    \"likes\": t.public_metrics.get(\"like_count\",0),\n",
        "                    \"retweets\": t.public_metrics.get(\"retweet_count\",0)\n",
        "                })\n",
        "            df = pd.DataFrame(data)\n",
        "            print(\"Sample tweets:\")\n",
        "            display(df.head())\n",
        "\n",
        "            # Sentiment Analysis\n",
        "            df[\"sentiment\"] = df[\"text\"].apply(lambda x: TextBlob(x).sentiment.polarity)\n",
        "            df[\"label\"] = df[\"sentiment\"].apply(lambda x: \"Positive\" if x>0.05 else (\"Negative\" if x<-0.05 else \"Neutral\"))\n",
        "            print(\"Sentiment Analysis Results:\")\n",
        "            display(df[[\"text\", \"sentiment\", \"label\"]].head())\n",
        "\n",
        "            # Visualization\n",
        "            # Sentiment distribution\n",
        "            plt.figure(figsize=(6,4))\n",
        "            df[\"label\"].value_counts().plot(kind=\"bar\", color=[\"green\",\"gray\",\"red\"])\n",
        "            plt.title(\"Sentiment Distribution of Sampled Tweets\")\n",
        "            plt.xlabel(\"Sentiment\")\n",
        "            plt.ylabel(\"Number of Tweets\")\n",
        "            plt.show()\n",
        "\n",
        "            # Likes vs sentiment scatter\n",
        "            plt.figure(figsize=(6,4))\n",
        "            plt.scatter(df[\"sentiment\"], df[\"likes\"])\n",
        "            plt.title(\"Likes vs Sentiment for Sampled Tweets\")\n",
        "            plt.xlabel(\"Sentiment\")\n",
        "            plt.ylabel(\"Likes\")\n",
        "            plt.show()\n",
        "        else:\n",
        "            print(\"No tweets returned in this sample. Try running again or adjust the query.\")\n",
        "\n",
        "except tweepy.errors.TweepyException as e:\n",
        "    print(f\"Error fetching tweets: {e}\")\n",
        "except Exception as e:\n",
        "    print(f\"An unexpected error occurred: {e}\")\n"
      ],
      "metadata": {
        "colab": {
          "base_uri": "https://localhost:8080/"
        },
        "id": "SDfUq2wnHZnI",
        "outputId": "8c5c52ac-08ea-4382-9462-ae35c64abda5"
      },
      "execution_count": 7,
      "outputs": [
        {
          "output_type": "stream",
          "name": "stdout",
          "text": [
            "Requirement already satisfied: tweepy in /usr/local/lib/python3.12/dist-packages (4.16.0)\n",
            "Requirement already satisfied: pandas in /usr/local/lib/python3.12/dist-packages (2.2.2)\n",
            "Requirement already satisfied: matplotlib in /usr/local/lib/python3.12/dist-packages (3.10.0)\n",
            "Requirement already satisfied: textblob in /usr/local/lib/python3.12/dist-packages (0.19.0)\n",
            "Requirement already satisfied: oauthlib<4,>=3.2.0 in /usr/local/lib/python3.12/dist-packages (from tweepy) (3.3.1)\n",
            "Requirement already satisfied: requests<3,>=2.27.0 in /usr/local/lib/python3.12/dist-packages (from tweepy) (2.32.4)\n",
            "Requirement already satisfied: requests-oauthlib<3,>=1.2.0 in /usr/local/lib/python3.12/dist-packages (from tweepy) (2.0.0)\n",
            "Requirement already satisfied: numpy>=1.26.0 in /usr/local/lib/python3.12/dist-packages (from pandas) (2.0.2)\n",
            "Requirement already satisfied: python-dateutil>=2.8.2 in /usr/local/lib/python3.12/dist-packages (from pandas) (2.9.0.post0)\n",
            "Requirement already satisfied: pytz>=2020.1 in /usr/local/lib/python3.12/dist-packages (from pandas) (2025.2)\n",
            "Requirement already satisfied: tzdata>=2022.7 in /usr/local/lib/python3.12/dist-packages (from pandas) (2025.2)\n",
            "Requirement already satisfied: contourpy>=1.0.1 in /usr/local/lib/python3.12/dist-packages (from matplotlib) (1.3.3)\n",
            "Requirement already satisfied: cycler>=0.10 in /usr/local/lib/python3.12/dist-packages (from matplotlib) (0.12.1)\n",
            "Requirement already satisfied: fonttools>=4.22.0 in /usr/local/lib/python3.12/dist-packages (from matplotlib) (4.59.2)\n",
            "Requirement already satisfied: kiwisolver>=1.3.1 in /usr/local/lib/python3.12/dist-packages (from matplotlib) (1.4.9)\n",
            "Requirement already satisfied: packaging>=20.0 in /usr/local/lib/python3.12/dist-packages (from matplotlib) (25.0)\n",
            "Requirement already satisfied: pillow>=8 in /usr/local/lib/python3.12/dist-packages (from matplotlib) (11.3.0)\n",
            "Requirement already satisfied: pyparsing>=2.3.1 in /usr/local/lib/python3.12/dist-packages (from matplotlib) (3.2.3)\n",
            "Requirement already satisfied: nltk>=3.9 in /usr/local/lib/python3.12/dist-packages (from textblob) (3.9.1)\n",
            "Requirement already satisfied: click in /usr/local/lib/python3.12/dist-packages (from nltk>=3.9->textblob) (8.2.1)\n",
            "Requirement already satisfied: joblib in /usr/local/lib/python3.12/dist-packages (from nltk>=3.9->textblob) (1.5.2)\n",
            "Requirement already satisfied: regex>=2021.8.3 in /usr/local/lib/python3.12/dist-packages (from nltk>=3.9->textblob) (2024.11.6)\n",
            "Requirement already satisfied: tqdm in /usr/local/lib/python3.12/dist-packages (from nltk>=3.9->textblob) (4.67.1)\n",
            "Requirement already satisfied: six>=1.5 in /usr/local/lib/python3.12/dist-packages (from python-dateutil>=2.8.2->pandas) (1.17.0)\n",
            "Requirement already satisfied: charset_normalizer<4,>=2 in /usr/local/lib/python3.12/dist-packages (from requests<3,>=2.27.0->tweepy) (3.4.3)\n",
            "Requirement already satisfied: idna<4,>=2.5 in /usr/local/lib/python3.12/dist-packages (from requests<3,>=2.27.0->tweepy) (3.10)\n",
            "Requirement already satisfied: urllib3<3,>=1.21.1 in /usr/local/lib/python3.12/dist-packages (from requests<3,>=2.27.0->tweepy) (2.5.0)\n",
            "Requirement already satisfied: certifi>=2017.4.17 in /usr/local/lib/python3.12/dist-packages (from requests<3,>=2.27.0->tweepy) (2025.8.3)\n",
            "Error fetching tweets: 429 Too Many Requests\n",
            "Too Many Requests\n"
          ]
        }
      ]
    },
    {
      "cell_type": "code",
      "metadata": {
        "colab": {
          "base_uri": "https://localhost:8080/"
        },
        "id": "511d9f33",
        "outputId": "e29d99c9-c0f5-4bd7-be63-45aa241fef05"
      },
      "source": [
        "import os\n",
        "\n",
        "print(\"Environment Variables:\")\n",
        "for key, value in os.environ.items():\n",
        "    # Print only a few to avoid clutter, or filter if you know a variable name that should exist\n",
        "    # For example, print only variables containing 'COLAB' or 'KEY'\n",
        "    if 'COLAB' in key or 'KEY' in key:\n",
        "         print(f\"{key}: {value}\")\n",
        "    # To print all environment variables, uncomment the line below:\n",
        "    # print(f\"{key}: {value}\")"
      ],
      "execution_count": 8,
      "outputs": [
        {
          "output_type": "stream",
          "name": "stdout",
          "text": [
            "Environment Variables:\n",
            "COLAB_JUPYTER_TRANSPORT: ipc\n",
            "COLAB_TPU_1VM: \n",
            "COLAB_JUPYTER_IP: 172.28.0.12\n",
            "COLAB_LANGUAGE_SERVER_PROXY_ROOT_URL: http://172.28.0.1:8013/\n",
            "COLAB_LANGUAGE_SERVER_PROXY_REQUEST_TIMEOUT: 30s\n",
            "COLAB_JUPYTER_TOKEN: \n",
            "COLAB_KERNEL_MANAGER_PROXY_HOST: 172.28.0.12\n",
            "COLAB_WARMUP_DEFAULTS: 1\n",
            "COLAB_RELEASE_TAG: release-colab_20250915-060103_RC01\n",
            "COLAB_LANGUAGE_SERVER_PROXY_LSP_DIRS: /datalab/web/pyright/typeshed-fallback/stdlib,/usr/local/lib/python3.10/dist-packages\n",
            "COLAB_KERNEL_MANAGER_PROXY_PORT: 6000\n",
            "COLAB_LANGUAGE_SERVER_PROXY: /usr/colab/bin/language_service\n",
            "COLAB_GPU: \n",
            "COLAB_FILE_HANDLER_ADDR: localhost:3453\n",
            "COLAB_DEBUG_ADAPTER_MUX_PATH: /usr/local/bin/dap_multiplexer\n",
            "COLAB_BACKEND_VERSION: next\n",
            "COLAB_NOTEBOOK_ID: 1-6AZpFc2KjzrhV8R0mDJmeA4i8WLtTzU\n"
          ]
        }
      ]
    }
  ]
}